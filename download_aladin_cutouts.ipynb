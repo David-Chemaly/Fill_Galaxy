{
 "cells": [
  {
   "cell_type": "code",
   "execution_count": 25,
   "metadata": {},
   "outputs": [],
   "source": [
    "from astropy.table import Table\n",
    "import os\n",
    "\n",
    "import matplotlib.pyplot as plt"
   ]
  },
  {
   "cell_type": "code",
   "execution_count": 67,
   "metadata": {},
   "outputs": [
    {
     "data": {
      "text/html": [
       "<div><i>Table length=871</i>\n",
       "<table id=\"table4676301056\" class=\"table-striped table-bordered table-condensed\">\n",
       "<thead><tr><th>Galaxy</th><th>RA</th><th>DEC</th><th>SBF</th><th>NED-D</th><th>Virgo</th><th>VHel</th><th>D</th><th>M_K</th><th>A_B</th><th>T-type</th><th>log_Re_</th></tr></thead>\n",
       "<thead><tr><th>str10</th><th>float64</th><th>float64</th><th>int64</th><th>int64</th><th>int64</th><th>int64</th><th>float64</th><th>float64</th><th>float64</th><th>float64</th><th>float64</th></tr></thead>\n",
       "<tr><td>IC0065</td><td>15.230966</td><td>47.681984</td><td>0</td><td>0</td><td>0</td><td>2614</td><td>39.7</td><td>-23.54</td><td>0.64</td><td>4.0</td><td>1.38</td></tr>\n",
       "<tr><td>IC0163</td><td>27.312431</td><td>20.711317</td><td>0</td><td>0</td><td>0</td><td>2749</td><td>39.7</td><td>-22.38</td><td>0.36</td><td>8.0</td><td>1.35</td></tr>\n",
       "<tr><td>IC0239</td><td>39.11625</td><td>38.97</td><td>0</td><td>0</td><td>0</td><td>903</td><td>15.7</td><td>-22.23</td><td>0.31</td><td>6.0</td><td>1.9</td></tr>\n",
       "<tr><td>IC0540</td><td>142.542755</td><td>7.902529</td><td>0</td><td>0</td><td>0</td><td>2035</td><td>30.0</td><td>-21.89</td><td>0.26</td><td>3.5</td><td>1.08</td></tr>\n",
       "<tr><td>IC0591</td><td>151.865479</td><td>12.27452</td><td>0</td><td>0</td><td>0</td><td>2839</td><td>41.2</td><td>-21.82</td><td>0.15</td><td>6.0</td><td>1.19</td></tr>\n",
       "<tr><td>IC0610</td><td>156.618179</td><td>20.228252</td><td>0</td><td>0</td><td>0</td><td>1170</td><td>19.6</td><td>-21.53</td><td>0.09</td><td>3.9</td><td>1.02</td></tr>\n",
       "<tr><td>IC0750</td><td>179.717606</td><td>42.722404</td><td>0</td><td>1</td><td>0</td><td>701</td><td>36.8</td><td>-24.71</td><td>0.09</td><td>2.1</td><td>1.24</td></tr>\n",
       "<tr><td>IC0777</td><td>184.849228</td><td>28.309881</td><td>0</td><td>0</td><td>0</td><td>2541</td><td>39.0</td><td>-21.92</td><td>0.1</td><td>2.6</td><td>0.95</td></tr>\n",
       "<tr><td>IC0800</td><td>188.486313</td><td>15.354542</td><td>0</td><td>0</td><td>0</td><td>2326</td><td>35.8</td><td>-22.2</td><td>0.16</td><td>5.2</td><td>1.56</td></tr>\n",
       "<tr><td>IC0851</td><td>197.143127</td><td>21.049742</td><td>0</td><td>0</td><td>0</td><td>2615</td><td>39.8</td><td>-21.82</td><td>0.15</td><td>3.1</td><td>1.31</td></tr>\n",
       "<tr><td>...</td><td>...</td><td>...</td><td>...</td><td>...</td><td>...</td><td>...</td><td>...</td><td>...</td><td>...</td><td>...</td><td>...</td></tr>\n",
       "<tr><td>PGC061468</td><td>272.360748</td><td>19.117682</td><td>0</td><td>0</td><td>0</td><td>2371</td><td>36.2</td><td>-21.68</td><td>0.35</td><td>0.0</td><td>1.06</td></tr>\n",
       "<tr><td>PGC071531</td><td>352.121338</td><td>19.863962</td><td>0</td><td>0</td><td>0</td><td>2030</td><td>30.4</td><td>-21.74</td><td>0.53</td><td>-4.0</td><td>0.88</td></tr>\n",
       "<tr><td>PGC170172</td><td>176.73172</td><td>-5.187745</td><td>0</td><td>0</td><td>0</td><td>2562</td><td>37.1</td><td>-21.89</td><td>0.08</td><td>-5.0</td><td>0.89</td></tr>\n",
       "<tr><td>UGC03960</td><td>115.094856</td><td>23.275089</td><td>0</td><td>0</td><td>0</td><td>2255</td><td>33.2</td><td>-21.89</td><td>0.2</td><td>-4.9</td><td>1.24</td></tr>\n",
       "<tr><td>UGC04551</td><td>131.024582</td><td>49.793968</td><td>0</td><td>0</td><td>0</td><td>1728</td><td>28.0</td><td>-22.92</td><td>0.1</td><td>-2.0</td><td>1.03</td></tr>\n",
       "<tr><td>UGC05408</td><td>150.966095</td><td>59.436138</td><td>0</td><td>0</td><td>0</td><td>2998</td><td>45.8</td><td>-22.03</td><td>0.06</td><td>-3.3</td><td>0.84</td></tr>\n",
       "<tr><td>UGC06062</td><td>164.656662</td><td>9.050468</td><td>0</td><td>0</td><td>0</td><td>2634</td><td>38.7</td><td>-22.82</td><td>0.13</td><td>-2.0</td><td>1.05</td></tr>\n",
       "<tr><td>UGC06176</td><td>166.852753</td><td>21.657185</td><td>0</td><td>0</td><td>0</td><td>2677</td><td>40.1</td><td>-22.66</td><td>0.08</td><td>-2.0</td><td>1.03</td></tr>\n",
       "<tr><td>UGC08876</td><td>209.241943</td><td>45.973179</td><td>0</td><td>0</td><td>0</td><td>2085</td><td>33.9</td><td>-22.37</td><td>0.04</td><td>-0.1</td><td>0.93</td></tr>\n",
       "<tr><td>UGC09519</td><td>221.588028</td><td>34.370651</td><td>0</td><td>0</td><td>0</td><td>1631</td><td>27.6</td><td>-21.98</td><td>0.09</td><td>-1.9</td><td>0.87</td></tr>\n",
       "</table></div>"
      ],
      "text/plain": [
       "<Table length=871>\n",
       "  Galaxy      RA        DEC     SBF  NED-D ...   M_K     A_B    T-type log_Re_\n",
       "  str10    float64    float64  int64 int64 ... float64 float64 float64 float64\n",
       "--------- ---------- --------- ----- ----- ... ------- ------- ------- -------\n",
       "   IC0065  15.230966 47.681984     0     0 ...  -23.54    0.64     4.0    1.38\n",
       "   IC0163  27.312431 20.711317     0     0 ...  -22.38    0.36     8.0    1.35\n",
       "   IC0239   39.11625     38.97     0     0 ...  -22.23    0.31     6.0     1.9\n",
       "   IC0540 142.542755  7.902529     0     0 ...  -21.89    0.26     3.5    1.08\n",
       "   IC0591 151.865479  12.27452     0     0 ...  -21.82    0.15     6.0    1.19\n",
       "   IC0610 156.618179 20.228252     0     0 ...  -21.53    0.09     3.9    1.02\n",
       "   IC0750 179.717606 42.722404     0     1 ...  -24.71    0.09     2.1    1.24\n",
       "   IC0777 184.849228 28.309881     0     0 ...  -21.92     0.1     2.6    0.95\n",
       "   IC0800 188.486313 15.354542     0     0 ...   -22.2    0.16     5.2    1.56\n",
       "   IC0851 197.143127 21.049742     0     0 ...  -21.82    0.15     3.1    1.31\n",
       "      ...        ...       ...   ...   ... ...     ...     ...     ...     ...\n",
       "PGC061468 272.360748 19.117682     0     0 ...  -21.68    0.35     0.0    1.06\n",
       "PGC071531 352.121338 19.863962     0     0 ...  -21.74    0.53    -4.0    0.88\n",
       "PGC170172  176.73172 -5.187745     0     0 ...  -21.89    0.08    -5.0    0.89\n",
       " UGC03960 115.094856 23.275089     0     0 ...  -21.89     0.2    -4.9    1.24\n",
       " UGC04551 131.024582 49.793968     0     0 ...  -22.92     0.1    -2.0    1.03\n",
       " UGC05408 150.966095 59.436138     0     0 ...  -22.03    0.06    -3.3    0.84\n",
       " UGC06062 164.656662  9.050468     0     0 ...  -22.82    0.13    -2.0    1.05\n",
       " UGC06176 166.852753 21.657185     0     0 ...  -22.66    0.08    -2.0    1.03\n",
       " UGC08876 209.241943 45.973179     0     0 ...  -22.37    0.04    -0.1    0.93\n",
       " UGC09519 221.588028 34.370651     0     0 ...  -21.98    0.09    -1.9    0.87"
      ]
     },
     "execution_count": 67,
     "metadata": {},
     "output_type": "execute_result"
    }
   ],
   "source": [
    "filepath_catalog = 'A3D_ETGsLTGs.votable'\n",
    "catalog          = Table.read(filepath_catalog,format='votable')\n",
    "catalog"
   ]
  },
  {
   "cell_type": "code",
   "execution_count": 83,
   "metadata": {},
   "outputs": [],
   "source": [
    "def sh_download_cutout(RA,DEC,name,survey,height,width,FOV,projection,coordsys,rotation_angle,format,filename_sh):\n",
    "    \"\"\"\n",
    "    Writes a .sh file calling Aladin to retrieve cutouts of a target galaxy.\n",
    "    Input: catalog (astropy table): table containing the galaxies of interest (name, RA, DEC)\n",
    "        RA (float): RA coordinates of the target galaxy (in degrees)\n",
    "        DEC (float): DEC coordinates of the target galaxy (in degrees)\n",
    "        name (str): name of the target galaxy\n",
    "        survey (str): name of the image survey\n",
    "        height (int): height in pixels of the cutout image\n",
    "        DEC (float): height in pixels of the cutout image\n",
    "        width (int): width in pixels of the cutout image\n",
    "        FOV (float): Field of View of the cutout in degrees\n",
    "        projection (str): projection to use for the cutout\n",
    "        coordsys (str): coordinate system to use for the cutout\n",
    "        rotation_angle (float): rotation of the cutout \n",
    "        format (str): format of the cutout\n",
    "        filename_sh (str): name of the output .sh file that will be created\n",
    "    Output: nothing is returned, only the file is written \n",
    "    \"\"\"\n",
    "    URL_BASE = \"https://alasky.cds.unistra.fr/hips-image-services/hips2fits?hips=\"\n",
    "    AladinURL = '\"' +URL_BASE+survey+'&width='+width+'&height='+height+'&fov='+FOV+'&projection='+projection+'&coordsys='+coordsys+'&rotation_angle='+rotation_angle+'&object='+RA+'+'+DEC+'&format='+format+'\"'+'\\n'\n",
    "    with open(filename_sh,'a') as f:\n",
    "        f.write(\n",
    "            '#!/bin/bash \\n'+ 'AladinURL='+ AladinURL +\\\n",
    "            'wget -O '+name+'.'+format +' \"$AladinURL\" \\n'      \n",
    "        )\n",
    "    return 0\n",
    "\n",
    "def get_several_sh_download_cutouts(catalog,survey,height=512,width=512,FOV=0.5,projection='SIN',coordsys='icrs',rotation_angle=0.0,format='png',filename_sh='download_skyview.sh'):\n",
    "    \"\"\"\n",
    "    Write the .sh that will be used to call Aladin to retrieve curtouts of several galaxies from an input catalog containg the names of the objects and the RA,DEC coordinates.\n",
    "    Input: catalog (astropy table): table containing the galaxies of interest (name, RA, DEC)\n",
    "           survey (str): name of the image survey\n",
    "           height (int): height in pixels of the cutout image\n",
    "           width (int): width in pixels of the cutout image\n",
    "           FOV (float): Field of View of the cutout in degrees\n",
    "           projection (str): projection to use for the cutout\n",
    "           coordsys (str): coordinate system to use for the cutout\n",
    "           rotation_angle (float): rotation of the cutout \n",
    "           format (str): format of the cutout\n",
    "           filename_sh (str): name of the output .sh file that will be created\n",
    "    Output: nothing is returned, only the file is written  \n",
    "    \"\"\"\n",
    "    # Delete .sh file if already exists\n",
    "    if os.path.exists(filename_sh):\n",
    "        os.remove(filename_sh)\n",
    "    for i in range(len(catalog)):\n",
    "        ra   = catalog[i]['RA']\n",
    "        dec  = catalog[i]['DEC']\n",
    "        name = catalog[i]['Galaxy']\n",
    "        adaptive_FOV  = (10**(catalog[i]['log_Re_'])/3600)*10\n",
    "        sh_download_cutout(str(ra),str(dec),name,survey,str(height),str(width),str(adaptive_FOV),projection,coordsys,str(rotation_angle),format,filename_sh)\n",
    "    return 0"
   ]
  },
  {
   "cell_type": "code",
   "execution_count": 79,
   "metadata": {},
   "outputs": [],
   "source": [
    "## For a single cutout\n",
    "#sh_download_cutout(RA=\"148.8882193985\",DEC=\"+69.0652951404\",name='M81',survey=\"CDS%2FP%2FDSS2%2Fcolor\",height='512',width='512',FOV='0.8',projection='SIN',coordsys='icrs',rotation_angle='0.0',format='jpg')"
   ]
  },
  {
   "cell_type": "code",
   "execution_count": 84,
   "metadata": {},
   "outputs": [
    {
     "data": {
      "text/plain": [
       "0"
      ]
     },
     "execution_count": 84,
     "metadata": {},
     "output_type": "execute_result"
    }
   ],
   "source": [
    "## For an entire catalog\n",
    "get_several_sh_download_cutouts(catalog,survey='CDS%2FP%2FDSS2%2Fr',height=512,width=512,FOV=0,projection='SIN',coordsys='icrs',rotation_angle=0.0,format='fits',filename_sh='download_A3D_skyview.sh')"
   ]
  },
  {
   "cell_type": "code",
   "execution_count": null,
   "metadata": {},
   "outputs": [],
   "source": []
  }
 ],
 "metadata": {
  "kernelspec": {
   "display_name": "Python 3",
   "language": "python",
   "name": "python3"
  },
  "language_info": {
   "codemirror_mode": {
    "name": "ipython",
    "version": 3
   },
   "file_extension": ".py",
   "mimetype": "text/x-python",
   "name": "python",
   "nbconvert_exporter": "python",
   "pygments_lexer": "ipython3",
   "version": "3.10.12"
  }
 },
 "nbformat": 4,
 "nbformat_minor": 2
}
