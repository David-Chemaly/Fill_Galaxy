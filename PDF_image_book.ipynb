{
 "cells": [
  {
   "cell_type": "code",
   "execution_count": 1,
   "metadata": {},
   "outputs": [],
   "source": [
    "import os\n",
    "import matplotlib.pyplot as plt\n",
    "from matplotlib.backends.backend_pdf import PdfPages\n",
    "from astropy.io import fits\n",
    "import numpy as np"
   ]
  },
  {
   "cell_type": "code",
   "execution_count": 2,
   "metadata": {},
   "outputs": [],
   "source": [
    "plt.rcParams['xtick.bottom'] = plt.rcParams['xtick.labelbottom'] = False\n",
    "plt.rcParams['ytick.left'] = plt.rcParams['ytick.labelleft'] = False"
   ]
  },
  {
   "cell_type": "code",
   "execution_count": 2,
   "metadata": {},
   "outputs": [],
   "source": [
    "# Set the path to your images\n",
    "image_directory = '/Users/davidchemaly/Data/DSS2_Survey/A3D_Catalogue/fits_r_fov10Re/'\n",
    "output_pdf_directory = './'\n",
    "\n",
    "image_files = [f.split('.')[0] for f in os.listdir(image_directory) if f.endswith('.fits')]"
   ]
  },
  {
   "cell_type": "code",
   "execution_count": 7,
   "metadata": {},
   "outputs": [],
   "source": [
    "stars_in_fov = np.loadtxt('stars_in_fov.txt', dtype=str)\n",
    "artifact_in_fov = np.loadtxt('artifact_in_fov.txt', dtype=str)\n",
    "remove_im = np.concatenate((stars_in_fov, artifact_in_fov))\n",
    "keep_im = np.setdiff1d(image_files, remove_im)\n",
    "np.savetxt('keep_im.txt', keep_im, fmt='%s')\n",
    "np.savetxt('remove_im.txt', remove_im, fmt='%s')\n"
   ]
  },
  {
   "cell_type": "code",
   "execution_count": 9,
   "metadata": {},
   "outputs": [
    {
     "name": "stdout",
     "output_type": "stream",
     "text": [
      "PDF created successfully: ./good_r_10Re.pdf\n"
     ]
    }
   ],
   "source": [
    "# Ensure the output directory exists\n",
    "output_pdf_name = 'good_r_10Re.pdf'\n",
    "plot_image = keep_im.copy() #sort()\n",
    "os.makedirs(output_pdf_directory, exist_ok=True)\n",
    "output_pdf_path = os.path.join(output_pdf_directory, output_pdf_name)\n",
    "\n",
    "# Get all .png files from the directory\n",
    "# image_files = [f for f in os.listdir(image_directory) if f.endswith('.png')]\n",
    "# image_files = [f for f in os.listdir(image_directory) if f.endswith('.fits')]\n",
    "\n",
    "\n",
    "\n",
    "\n",
    "\n",
    "# Set up PDF writer\n",
    "with PdfPages(output_pdf_path) as pdf:\n",
    "\n",
    "    # Iterate over images in chunks of 25 (5x5)\n",
    "    for i in range(0, len(plot_image), 25):\n",
    "        fig, axs = plt.subplots(5, 5, figsize=(15, 15))\n",
    "\n",
    "        # Flatten axs array and iterate over it and the images simultaneously\n",
    "        for ax, j in zip(axs.flatten(), range(i, min(i+25, len(plot_image)))):\n",
    "\n",
    "            # # From .png\n",
    "            # img_path = os.path.join(image_directory, plot_image[j] + '.png')\n",
    "            # img = plt.imread(img_path)\n",
    "            # ax.imshow(img)\n",
    "\n",
    "            # From .fits\n",
    "            img_path = os.path.join(image_directory, plot_image[j] + '.fits')\n",
    "            with fits.open(img_path) as hdul:\n",
    "                data   = hdul[0].data\n",
    "            arcsinh_im = np.arcsinh(data + data.mean())\n",
    "            c = 2\n",
    "            p1 = np.percentile(arcsinh_im, c)\n",
    "            p2 = np.percentile(arcsinh_im, 100)\n",
    "            ax.imshow(np.clip(arcsinh_im,p1,p2), cmap='gray_r')\n",
    "\n",
    "            ax.set_title(plot_image[j].split('.')[0])\n",
    "            ax.axis('off')\n",
    "\n",
    "        # Fill remaining subplots (if any) with white color\n",
    "        for k in range(j+1, i+25):\n",
    "            axs.flatten()[k-i].axis('off')\n",
    "\n",
    "        # Save the current plot to the PDF\n",
    "        pdf.savefig(fig)\n",
    "        plt.close(fig)\n",
    "\n",
    "print(f\"PDF created successfully: {output_pdf_path}\")\n"
   ]
  },
  {
   "cell_type": "code",
   "execution_count": null,
   "metadata": {},
   "outputs": [],
   "source": []
  }
 ],
 "metadata": {
  "kernelspec": {
   "display_name": "Illustris",
   "language": "python",
   "name": "python3"
  },
  "language_info": {
   "codemirror_mode": {
    "name": "ipython",
    "version": 3
   },
   "file_extension": ".py",
   "mimetype": "text/x-python",
   "name": "python",
   "nbconvert_exporter": "python",
   "pygments_lexer": "ipython3",
   "version": "3.10.12"
  },
  "orig_nbformat": 4
 },
 "nbformat": 4,
 "nbformat_minor": 2
}
